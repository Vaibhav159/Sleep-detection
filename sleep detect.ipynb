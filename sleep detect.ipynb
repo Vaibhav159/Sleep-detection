{
 "cells": [
  {
   "cell_type": "code",
   "execution_count": 1,
   "metadata": {},
   "outputs": [
    {
     "name": "stderr",
     "output_type": "stream",
     "text": [
      "Using TensorFlow backend.\n"
     ]
    }
   ],
   "source": [
    "import numpy as np\n",
    "import cv2\n",
    "import matplotlib.pyplot as plt\n",
    "from IPython.display import clear_output\n",
    "%matplotlib inline\n",
    "from keras.models import Sequential\n",
    "from keras.layers import Conv2D\n",
    "from keras.layers import MaxPooling2D\n",
    "from keras.layers import GlobalAveragePooling2D\n",
    "from keras.layers import Flatten,Dense\n",
    "from keras.preprocessing.image import ImageDataGenerator\n",
    "from keras.models import load_model\n",
    "import os\n",
    "from keras.preprocessing import image\n",
    "from matplotlib.pyplot import imshow\n",
    "import pickle\n",
    "import tensorflow as tf\n",
    "import time\n",
    "from threading import Thread\n",
    "from playsound import playsound"
   ]
  },
  {
   "cell_type": "code",
   "execution_count": 2,
   "metadata": {},
   "outputs": [],
   "source": [
    "haar=cv2.CascadeClassifier(\"haarcascade_frontalface_alt.xml\")\n",
    "haar_eyes=cv2.CascadeClassifier(\"haarcascade_eye.xml\")"
   ]
  },
  {
   "cell_type": "code",
   "execution_count": 3,
   "metadata": {},
   "outputs": [],
   "source": [
    "def playy():    \n",
    "    playsound(\"erro.mp3\")\n",
    "def alarm():\n",
    "    z=0\n",
    "    while z<100: \n",
    "        T = Thread(target=playy)\n",
    "        T.start()\n",
    "        z=z+1\n",
    "        time.sleep(0.1)"
   ]
  },
  {
   "cell_type": "code",
   "execution_count": 5,
   "metadata": {},
   "outputs": [
    {
     "name": "stdout",
     "output_type": "stream",
     "text": [
      "you are sleep 1\n",
      "you are sleep 1\n",
      "you are sleep 1\n",
      "you are sleep 1\n",
      "you are sleep 1\n",
      "you are sleep 1\n",
      "you are sleep 1\n",
      "you are sleep 1\n",
      "you are sleep 2\n",
      "you are sleep 1\n",
      "you are sleep 1\n",
      "you are sleep 1\n",
      "you are sleep 1\n",
      "you are sleep 1\n",
      "you are sleep 2\n",
      "you are sleep 3\n",
      "you are sleep 1\n",
      "you are sleep 2\n",
      "you are sleep 3\n",
      "you are sleep 4\n",
      "you are sleep 5\n",
      "you are sleep 6\n",
      "you are sleep 1\n"
     ]
    }
   ],
   "source": [
    "webcam=cv2.VideoCapture(0)\n",
    "count=0\n",
    "name=\"Person \"\n",
    "while True:\n",
    "    ret,frame=webcam.read()\n",
    "    \n",
    "    faces=haar.detectMultiScale(frame,scaleFactor=1.1,minNeighbors=5)\n",
    "    eyes=haar_eyes.detectMultiScale(frame,scaleFactor=1.1,minNeighbors=5)\n",
    "    if cv2.waitKey(20)  & 0xFF == 27 or count>210:\n",
    "        break\n",
    "    human=1\n",
    "    for (x,y,w,h) in faces:\n",
    "        cv2.rectangle(frame,(x,y),(x+w,y+h),(230,230,0),2)\n",
    "        cv2.putText(frame,name+str(human),(x-10,y-10),cv2.FONT_HERSHEY_SIMPLEX,1.5,(0,255,0),3)\n",
    "        human+=1\n",
    "    \n",
    "    if len(faces)!=0:\n",
    "        if len(eyes) !=0:\n",
    "            for (ex,ey,ew,eh) in eyes:\n",
    "                cv2.rectangle(frame,(ex,ey),(ex+ew,ey+eh),(230,230,0),2)\n",
    "                count=0\n",
    "        else:\n",
    "            count=count+1\n",
    "            print(\"you are sleep\",count)\n",
    "    \n",
    "    if count>5:\n",
    "        alarm()\n",
    "        count=0\n",
    "    cv2.imshow(\"x\",frame)\n",
    "    \n",
    "cv2.destroyAllWindows()\n",
    "webcam.release()"
   ]
  }
 ],
 "metadata": {
  "kernelspec": {
   "display_name": "Python 3",
   "language": "python",
   "name": "python3"
  },
  "language_info": {
   "codemirror_mode": {
    "name": "ipython",
    "version": 3
   },
   "file_extension": ".py",
   "mimetype": "text/x-python",
   "name": "python",
   "nbconvert_exporter": "python",
   "pygments_lexer": "ipython3",
   "version": "3.7.1"
  }
 },
 "nbformat": 4,
 "nbformat_minor": 2
}
